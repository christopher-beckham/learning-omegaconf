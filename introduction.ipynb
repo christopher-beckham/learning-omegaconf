{
 "cells": [
  {
   "cell_type": "code",
   "execution_count": 1,
   "id": "e5bebdb1-6852-4b35-979a-8e05afff2b94",
   "metadata": {},
   "outputs": [
    {
     "name": "stdout",
     "output_type": "stream",
     "text": [
      "Collecting omegaconf\n",
      "  Downloading omegaconf-2.3.0-py3-none-any.whl (79 kB)\n",
      "\u001b[K     |████████████████████████████████| 79 kB 2.0 MB/s eta 0:00:011\n",
      "\u001b[?25hCollecting antlr4-python3-runtime==4.9.*\n",
      "  Downloading antlr4-python3-runtime-4.9.3.tar.gz (117 kB)\n",
      "\u001b[K     |████████████████████████████████| 117 kB 4.2 MB/s eta 0:00:01\n",
      "\u001b[?25hRequirement already satisfied: PyYAML>=5.1.0 in /Users/beckhamc/miniconda3/lib/python3.8/site-packages (from omegaconf) (6.0)\n",
      "Building wheels for collected packages: antlr4-python3-runtime\n",
      "  Building wheel for antlr4-python3-runtime (setup.py) ... \u001b[?25ldone\n",
      "\u001b[?25h  Created wheel for antlr4-python3-runtime: filename=antlr4_python3_runtime-4.9.3-py3-none-any.whl size=144575 sha256=9b79ba137efae429a5470f9939d607326614f17dcd583b94b0ec1d1b6e00a147\n",
      "  Stored in directory: /Users/beckhamc/Library/Caches/pip/wheels/b1/a3/c2/6df046c09459b73cc9bb6c4401b0be6c47048baf9a1617c485\n",
      "Successfully built antlr4-python3-runtime\n",
      "Installing collected packages: antlr4-python3-runtime, omegaconf\n",
      "Successfully installed antlr4-python3-runtime-4.9.3 omegaconf-2.3.0\n",
      "Note: you may need to restart the kernel to use updated packages.\n"
     ]
    }
   ],
   "source": [
    "%pip install omegaconf"
   ]
  },
  {
   "cell_type": "code",
   "execution_count": 3,
   "id": "58fcfd6c-0e0d-4f83-92da-ad75d22a0a48",
   "metadata": {},
   "outputs": [
    {
     "name": "stdout",
     "output_type": "stream",
     "text": [
      "Collecting dataclasses\n",
      "  Downloading dataclasses-0.6-py3-none-any.whl (14 kB)\n",
      "Installing collected packages: dataclasses\n",
      "Successfully installed dataclasses-0.6\n",
      "Note: you may need to restart the kernel to use updated packages.\n"
     ]
    }
   ],
   "source": [
    "%pip install dataclasses"
   ]
  },
  {
   "cell_type": "markdown",
   "id": "ea105d2f-9feb-4dab-8c85-397ba9c74aee",
   "metadata": {},
   "source": [
    "----------"
   ]
  },
  {
   "cell_type": "code",
   "execution_count": null,
   "id": "ea806fd8-d300-4a2c-b1a1-db4fe096512b",
   "metadata": {},
   "outputs": [],
   "source": []
  },
  {
   "cell_type": "markdown",
   "id": "4cfbdbaf-0c27-4611-98eb-63aeb7797c37",
   "metadata": {},
   "source": [
    "## Creating a data class"
   ]
  },
  {
   "cell_type": "code",
   "execution_count": 1,
   "id": "33f4aae6-bebe-4f04-99d2-18f77fecfb8d",
   "metadata": {},
   "outputs": [],
   "source": [
    "from dataclasses import dataclass, field\n",
    "from typing import List"
   ]
  },
  {
   "cell_type": "code",
   "execution_count": 2,
   "id": "0a23c1ee-a54a-4dd9-b890-0725cc619341",
   "metadata": {},
   "outputs": [],
   "source": [
    "@dataclass\n",
    "class Model:\n",
    "    dim: int = 128\n",
    "    dim_mults: List[int] = field(default_factory=lambda: [1,2,4,8])"
   ]
  },
  {
   "cell_type": "code",
   "execution_count": 3,
   "id": "5bc12c81-b830-4338-9e95-2f9f95c3f272",
   "metadata": {},
   "outputs": [],
   "source": [
    "@dataclass\n",
    "class Dataset:\n",
    "    name: str = \"cifar10\""
   ]
  },
  {
   "cell_type": "code",
   "execution_count": 134,
   "id": "5cc43658-9f30-4660-a561-3c77b755b3cb",
   "metadata": {},
   "outputs": [],
   "source": [
    "@dataclass\n",
    "class Arguments:\n",
    "    model: Model = Model()\n",
    "    dataset: Dataset = Dataset()\n",
    "    num_workers: int = 8\n",
    "    epochs: int = 200\n",
    "    eval_every: int = 10\n",
    "    special_eval_arg: int = 1000 # we'll get to this later"
   ]
  },
  {
   "cell_type": "code",
   "execution_count": null,
   "id": "2db65268-7b87-4096-827a-9796267e2b65",
   "metadata": {},
   "outputs": [],
   "source": []
  },
  {
   "cell_type": "code",
   "execution_count": 5,
   "id": "c9ebf37c-c278-41fa-8762-671060bb2f95",
   "metadata": {},
   "outputs": [],
   "source": [
    "from omegaconf import OmegaConf as OC"
   ]
  },
  {
   "cell_type": "markdown",
   "id": "f53ad634-6514-4fde-bc77-5cd416a1bf45",
   "metadata": {},
   "source": [
    "### Type checking"
   ]
  },
  {
   "cell_type": "code",
   "execution_count": 45,
   "id": "9312400a-6a80-4b4e-80bc-c6ade7151a84",
   "metadata": {},
   "outputs": [],
   "source": [
    "# OmegaConf verifies at runtime that your Lists contains only values of the correct type."
   ]
  },
  {
   "cell_type": "code",
   "execution_count": 93,
   "id": "676cd753-35e4-4f51-b555-33ce7d97aae1",
   "metadata": {},
   "outputs": [
    {
     "data": {
      "text/plain": [
       "{'dim': 128, 'dim_mults': [1, 2, 4, 8]}"
      ]
     },
     "execution_count": 93,
     "metadata": {},
     "output_type": "execute_result"
    }
   ],
   "source": [
    "OC.structured(Model())"
   ]
  },
  {
   "cell_type": "code",
   "execution_count": 94,
   "id": "a1104439-765c-43be-90b3-0b50cdc605f8",
   "metadata": {},
   "outputs": [
    {
     "name": "stdout",
     "output_type": "stream",
     "text": [
      "Invalid value assigned: str is not a ListConfig, list or tuple.\n",
      "    full_key: dim_mults\n",
      "    object_type=None\n"
     ]
    }
   ],
   "source": [
    "invalid_model = Model(dim_mults=\"1248\")\n",
    "try:\n",
    "    OC.structured(invalid_model)\n",
    "except Exception as e:\n",
    "    print(e)"
   ]
  },
  {
   "cell_type": "code",
   "execution_count": 95,
   "id": "b95b0fcc-f536-4690-8c17-b5c5732e7acc",
   "metadata": {},
   "outputs": [
    {
     "name": "stdout",
     "output_type": "stream",
     "text": [
      "Non optional ListConfig cannot be constructed from None\n",
      "    full_key: dim_mults\n",
      "    object_type=None\n"
     ]
    }
   ],
   "source": [
    "invalid_model = Model(dim_mults=None)\n",
    "try:\n",
    "    OC.structured(invalid_model)\n",
    "except Exception as e:\n",
    "    print(e)"
   ]
  },
  {
   "cell_type": "markdown",
   "id": "9d295a9f-0df4-4773-ab7e-3535cc46c42c",
   "metadata": {},
   "source": [
    "### Reading from dotlist"
   ]
  },
  {
   "cell_type": "code",
   "execution_count": 96,
   "id": "85f63b7f-9edf-4c4a-9cf7-ce149510d825",
   "metadata": {},
   "outputs": [],
   "source": [
    "cfg_dotlist = [\n",
    " \"num_workers=8\",\n",
    " \"epochs=200\",\n",
    " \"bad_arg=1\",\n",
    "]"
   ]
  },
  {
   "cell_type": "code",
   "execution_count": 97,
   "id": "91feca7a-d94e-4360-8828-eb35726d04cc",
   "metadata": {},
   "outputs": [
    {
     "data": {
      "text/plain": [
       "['num_workers=8', 'epochs=200', 'bad_arg=1']"
      ]
     },
     "execution_count": 97,
     "metadata": {},
     "output_type": "execute_result"
    }
   ],
   "source": [
    "cfg_dotlist"
   ]
  },
  {
   "cell_type": "markdown",
   "id": "ba7ef075-ebba-4b34-9644-8178409c9841",
   "metadata": {},
   "source": [
    "First, read the dotlist into a dict, then initialise Arguments with this dict"
   ]
  },
  {
   "cell_type": "code",
   "execution_count": 98,
   "id": "37e8c188-fe18-4755-b269-f5f2dbf4e001",
   "metadata": {},
   "outputs": [
    {
     "ename": "TypeError",
     "evalue": "__init__() got an unexpected keyword argument 'bad_arg'",
     "output_type": "error",
     "traceback": [
      "\u001b[0;31m---------------------------------------------------------------------------\u001b[0m",
      "\u001b[0;31mTypeError\u001b[0m                                 Traceback (most recent call last)",
      "Input \u001b[0;32mIn [98]\u001b[0m, in \u001b[0;36m<cell line: 2>\u001b[0;34m()\u001b[0m\n\u001b[1;32m      1\u001b[0m \u001b[38;5;66;03m# This should fail, because bad_arg is not a valid argument\u001b[39;00m\n\u001b[0;32m----> 2\u001b[0m \u001b[43mArguments\u001b[49m\u001b[43m(\u001b[49m\u001b[38;5;241;43m*\u001b[39;49m\u001b[38;5;241;43m*\u001b[39;49m\u001b[43mOC\u001b[49m\u001b[38;5;241;43m.\u001b[39;49m\u001b[43mfrom_dotlist\u001b[49m\u001b[43m(\u001b[49m\u001b[43mcfg_dotlist\u001b[49m\u001b[43m)\u001b[49m\u001b[43m)\u001b[49m\n",
      "\u001b[0;31mTypeError\u001b[0m: __init__() got an unexpected keyword argument 'bad_arg'"
     ]
    }
   ],
   "source": [
    "# This should fail, because bad_arg is not a valid argument\n",
    "Arguments(**OC.from_dotlist(cfg_dotlist))"
   ]
  },
  {
   "cell_type": "code",
   "execution_count": 6,
   "id": "423e0440-db8c-401c-9827-876075bc88ef",
   "metadata": {},
   "outputs": [],
   "source": [
    "cfg_dotlist = [\n",
    " \"num_workers=8\",\n",
    " \"epochs=helloworld\",\n",
    "]"
   ]
  },
  {
   "cell_type": "code",
   "execution_count": 7,
   "id": "c85dd8a9-a810-443b-85b0-7e8230950ec1",
   "metadata": {},
   "outputs": [
    {
     "name": "stdout",
     "output_type": "stream",
     "text": [
      "Value 'helloworld' of type 'str' could not be converted to Integer\n",
      "    full_key: epochs\n",
      "    object_type=Arguments\n"
     ]
    }
   ],
   "source": [
    "# This should fail, because epochs needs to be an int, not str\n",
    "# OC.structured() is what does the validation\n",
    "try:\n",
    "    OC.structured(\n",
    "        Arguments(**OC.from_dotlist(cfg_dotlist))\n",
    "    )\n",
    "except Exception as e:\n",
    "    print(e)"
   ]
  },
  {
   "cell_type": "code",
   "execution_count": null,
   "id": "7e6ecc90-797c-4ace-b93a-3aef2df11efc",
   "metadata": {},
   "outputs": [],
   "source": []
  },
  {
   "cell_type": "markdown",
   "id": "d9b08f9c-f7f6-401b-9a6b-e1c81be3b80f",
   "metadata": {},
   "source": [
    "Let's try a more sophisticated dotlist"
   ]
  },
  {
   "cell_type": "code",
   "execution_count": 45,
   "id": "cea79fd7-7688-4aff-90b0-adb6b87cdb93",
   "metadata": {},
   "outputs": [],
   "source": [
    "cfg_dotlist = [\n",
    " \"num_workers=8\",\n",
    " \"epochs=200\",  \n",
    "    \n",
    " # dataset does not contain this arg\n",
    " \"dataset.bad_arg=helloworld\"\n",
    "]"
   ]
  },
  {
   "cell_type": "code",
   "execution_count": 46,
   "id": "a2efbaf6-0a8f-45a1-8f52-82adbafab8c1",
   "metadata": {},
   "outputs": [
    {
     "data": {
      "text/plain": [
       "{'num_workers': 8, 'epochs': 200, 'dataset': {'bad_arg': 'helloworld'}}"
      ]
     },
     "execution_count": 46,
     "metadata": {},
     "output_type": "execute_result"
    }
   ],
   "source": [
    "user_args = OC.from_dotlist(\n",
    " \"num_workers=8\",\n",
    " \"epochs=200\",  \n",
    "    \n",
    " # dataset does not contain this arg\n",
    " \"dataset.bad_arg=helloworld\"\n",
    ")\n",
    "user_args"
   ]
  },
  {
   "cell_type": "code",
   "execution_count": 47,
   "id": "25a4e27c-334b-4e27-be94-11079897de60",
   "metadata": {},
   "outputs": [],
   "source": [
    "main_args = OC.structured(Arguments())"
   ]
  },
  {
   "cell_type": "code",
   "execution_count": 19,
   "id": "db8867da-5e1e-4243-b5b0-d8baa1d52d7c",
   "metadata": {},
   "outputs": [
    {
     "name": "stdout",
     "output_type": "stream",
     "text": [
      "Value 'abc' of type 'str' could not be converted to Integer\n",
      "    full_key: epochs\n",
      "    object_type=Arguments\n"
     ]
    }
   ],
   "source": [
    "try:\n",
    "    main_args.epochs = \"abc\"\n",
    "except Exception as e:\n",
    "    print(e)"
   ]
  },
  {
   "cell_type": "markdown",
   "id": "0abb377f-013e-4964-8d08-2abaf6874de1",
   "metadata": {},
   "source": [
    "### Nested checking"
   ]
  },
  {
   "cell_type": "markdown",
   "id": "6b87aa0f-b65f-4d77-893a-df9e1c551cd7",
   "metadata": {},
   "source": [
    "Our dataclasses may be nested with other dataclasses (e.g `Arguments` contains `Model` as well as `Dataset`). We would like to be able to pass in a dotlist that may specify values for multiple of these classes. We would also like to validate all of these with a simple method call."
   ]
  },
  {
   "cell_type": "code",
   "execution_count": 23,
   "id": "f47a218c-2b19-4d81-b880-5a5b100c877d",
   "metadata": {},
   "outputs": [],
   "source": [
    "from omegaconf.dictconfig import DictConfig"
   ]
  },
  {
   "cell_type": "code",
   "execution_count": 150,
   "id": "565c4a82-3ed3-467e-b2b7-615ef09cb341",
   "metadata": {},
   "outputs": [],
   "source": [
    "def validate(main_args: DictConfig, user_args: DictConfig, padding=\"\"):\n",
    "    \"\"\"Insert user args into a default main args. An exception will be thrown\n",
    "    if any illegal arguments are given.\"\"\"\n",
    "    if type(main_args) is not DictConfig:\n",
    "        raise ValueError(\"{}main_args needs to be a DictConfig\".format(padding))\n",
    "    if type(user_args) is not DictConfig:\n",
    "        raise ValueError(\"{}user_args needs to be a DictConfig\".format(padding))\n",
    "    for k,v in user_args.items():\n",
    "        #if k not in main_args:\n",
    "        #    raise ValueError(\"user_args contains {} but this is not in main_args\".\\\n",
    "        #                     format(k))\n",
    "        if type(v) is not DictConfig:\n",
    "            print(\"{}set {} -> {}\".format(padding, k,v))\n",
    "            main_args[k] = v\n",
    "        else:\n",
    "            #pass\n",
    "            print(\"{}recurse into key={}\".format(padding, k))\n",
    "            validate(main_args[k], user_args[k], padding + \"  \")"
   ]
  },
  {
   "cell_type": "code",
   "execution_count": 86,
   "id": "c7a93875-e613-4da8-864b-7dce21855d3f",
   "metadata": {},
   "outputs": [],
   "source": [
    "main_args = OC.structured(Arguments())    # construct default arg list\n",
    "user_args = OC.from_dotlist([\n",
    " \"num_workers=8\",  # OK\n",
    " \"epochs=200\",     # OK\n",
    "    \n",
    " # dataset does not contain this arg, so it\n",
    " # should fail.\n",
    " \"dataset.bad_arg=helloworld\"\n",
    "])"
   ]
  },
  {
   "cell_type": "code",
   "execution_count": 87,
   "id": "3749f1d8-9f50-4cbe-98f7-bc6a0cb1fde7",
   "metadata": {},
   "outputs": [
    {
     "name": "stdout",
     "output_type": "stream",
     "text": [
      "set num_workers -> 8\n",
      "set epochs -> 200\n",
      "recurse into key=dataset\n",
      "  set bad_arg -> helloworld\n",
      "Key 'bad_arg' not in 'Dataset'\n",
      "    full_key: dataset.bad_arg\n",
      "    reference_type=Dataset\n",
      "    object_type=Dataset\n"
     ]
    }
   ],
   "source": [
    "try:\n",
    "    validate(main_args, user_args)\n",
    "except Exception as e:\n",
    "    print(e)"
   ]
  },
  {
   "cell_type": "code",
   "execution_count": 103,
   "id": "f5ae31bc-6823-40f0-95f9-afd88bdacc45",
   "metadata": {},
   "outputs": [],
   "source": [
    "main_args = OC.structured(Arguments())    # construct default arg list\n",
    "user_args = OC.from_dotlist([\n",
    " \"num_workers=8\",  # OK\n",
    " \"epochs=200\",     # OK\n",
    "    \n",
    " # model does contain dim_mults but it needs to be a list\n",
    " # of ints, not a list of strings\n",
    " \"model.dim_mults=['blah','blah']\"\n",
    "])"
   ]
  },
  {
   "cell_type": "code",
   "execution_count": 102,
   "id": "965e052c-e4e9-4331-a25e-b9b649257022",
   "metadata": {},
   "outputs": [
    {
     "name": "stdout",
     "output_type": "stream",
     "text": [
      "set num_workers -> 8\n",
      "set epochs -> 200\n",
      "recurse into key=model\n",
      "  set dim_mults -> ['blah', 'blah']\n",
      "Value 'blah' of type 'str' could not be converted to Integer\n",
      "    full_key: model.dim_mults[0]\n",
      "    reference_type=List[int]\n",
      "    object_type=list\n"
     ]
    }
   ],
   "source": [
    "try:\n",
    "    validate(main_args, user_args)\n",
    "except Exception as e:\n",
    "    print(e)"
   ]
  },
  {
   "cell_type": "code",
   "execution_count": 95,
   "id": "1f717a1a-b524-48bd-8558-ad65e466942a",
   "metadata": {},
   "outputs": [],
   "source": [
    "main_args = OC.structured(Arguments())    # construct default arg list\n",
    "user_args = OC.from_dotlist([\n",
    " \"num_workers=8\",\n",
    " \"epochs=200\",  \n",
    "    \n",
    " # we specify dataset but it's a blank dictionary\n",
    " # this should pass the test\n",
    " \"dataset={}\"\n",
    "])"
   ]
  },
  {
   "cell_type": "code",
   "execution_count": 96,
   "id": "1408740a-3026-4a21-813e-abeebc213ee6",
   "metadata": {},
   "outputs": [
    {
     "name": "stdout",
     "output_type": "stream",
     "text": [
      "set num_workers -> 8\n",
      "set epochs -> 200\n",
      "recurse into key=dataset\n"
     ]
    }
   ],
   "source": [
    "try:\n",
    "    validate(main_args, user_args)\n",
    "except Exception as e:\n",
    "    print(e)"
   ]
  },
  {
   "cell_type": "code",
   "execution_count": 111,
   "id": "d5b7efa0-51b8-46c6-9e73-656788684e32",
   "metadata": {},
   "outputs": [],
   "source": [
    "main_args = OC.structured(Arguments())    # construct default arg list\n",
    "user_args = OC.from_dotlist([\n",
    " \"num_workers=8\",\n",
    " \"epochs=200\",  \n",
    "    \n",
    " \"dataset.name=mnist\",\n",
    " # dataset does not have a key called 'nested_dataset'\n",
    " # so this should fail.\n",
    " \"dataset.nested_dataset={}\"\n",
    "])"
   ]
  },
  {
   "cell_type": "code",
   "execution_count": 112,
   "id": "967a9be4-75ef-4136-a517-3b9f47aa8dee",
   "metadata": {},
   "outputs": [
    {
     "name": "stdout",
     "output_type": "stream",
     "text": [
      "set num_workers -> 8\n",
      "set epochs -> 200\n",
      "recurse into key=dataset\n",
      "  set name -> mnist\n",
      "  recurse into key=nested_dataset\n",
      "Key 'nested_dataset' not in 'Dataset'\n",
      "    full_key: dataset.nested_dataset\n",
      "    reference_type=Dataset\n",
      "    object_type=Dataset\n"
     ]
    }
   ],
   "source": [
    "try:\n",
    "    validate(main_args, user_args)\n",
    "except Exception as e:\n",
    "    print(e)"
   ]
  },
  {
   "cell_type": "code",
   "execution_count": 131,
   "id": "945889b6-dfae-4552-834e-e078765df080",
   "metadata": {},
   "outputs": [
    {
     "name": "stdout",
     "output_type": "stream",
     "text": [
      "set num_workers -> 8\n",
      "set epochs -> 200\n",
      "recurse into key=dataset\n",
      "recurse into key=model\n"
     ]
    }
   ],
   "source": [
    "main_args = OC.structured(Arguments())    # construct default arg list\n",
    "user_args = OC.from_dotlist([\n",
    " \"num_workers=8\",\n",
    " \"epochs=200\",  \n",
    "    \n",
    " # this should pass\n",
    " \"dataset={}\",\n",
    " \"model={}\",\n",
    "])\n",
    "\n",
    "try:\n",
    "    validate(main_args, user_args)\n",
    "except Exception as e:\n",
    "    print(e)"
   ]
  },
  {
   "cell_type": "code",
   "execution_count": 132,
   "id": "ca6cee33-f8f9-4341-896d-f92238606013",
   "metadata": {},
   "outputs": [
    {
     "data": {
      "text/plain": [
       "{'num_workers': 8, 'epochs': 200, 'dataset': {}, 'model': {}}"
      ]
     },
     "execution_count": 132,
     "metadata": {},
     "output_type": "execute_result"
    }
   ],
   "source": [
    "user_args"
   ]
  },
  {
   "cell_type": "code",
   "execution_count": 140,
   "id": "3f9038f8-dec4-44d8-81e8-1861a82afaf3",
   "metadata": {},
   "outputs": [],
   "source": [
    "OC.register_new_resolver(\"eval\", eval)"
   ]
  },
  {
   "cell_type": "code",
   "execution_count": 143,
   "id": "65fd9062-0eca-40d9-8819-5b81c4894741",
   "metadata": {},
   "outputs": [
    {
     "name": "stdout",
     "output_type": "stream",
     "text": [
      "set num_workers -> 8\n",
      "set epochs -> 200\n",
      "set special_eval_arg -> 20\n"
     ]
    }
   ],
   "source": [
    "main_args = OC.structured(Arguments())    # construct default arg list\n",
    "user_args = OC.from_dotlist([\n",
    " \"num_workers=8\",\n",
    " \"epochs=200\",  \n",
    "    \n",
    " # see if the special eval argument works\n",
    " # let's set it to the result of 10*2\n",
    " \"special_eval_arg=${eval:'10*2'}\",\n",
    "])\n",
    "\n",
    "try:\n",
    "    validate(main_args, user_args)\n",
    "except Exception as e:\n",
    "    print(e)"
   ]
  },
  {
   "cell_type": "markdown",
   "id": "d70c062d-1e2d-4b86-b14f-ecb98725adfb",
   "metadata": {},
   "source": [
    "**TODO: add a custom resolver which resolves a class, kind of like what importlib does**"
   ]
  },
  {
   "cell_type": "markdown",
   "id": "47371f1d-bb7a-437f-bdfa-840618c2f75c",
   "metadata": {},
   "source": [
    "### Dummy class for Model"
   ]
  },
  {
   "cell_type": "code",
   "execution_count": 120,
   "id": "932019c8-1bd4-4142-b284-0ff668c511d2",
   "metadata": {},
   "outputs": [
    {
     "data": {
      "text/plain": [
       "True"
      ]
     },
     "execution_count": 120,
     "metadata": {},
     "output_type": "execute_result"
    }
   ],
   "source": [
    "import dataclasses\n",
    "dataclasses.is_dataclass(Model())"
   ]
  },
  {
   "cell_type": "code",
   "execution_count": 148,
   "id": "d20d7669-2b5e-49f6-999a-7b47427693ff",
   "metadata": {},
   "outputs": [],
   "source": [
    "def create_model(n_in,\n",
    "                 *,\n",
    "                 model_args: Model):\n",
    "    assert dataclasses.is_dataclass(model_args)\n",
    "    # create model here\n",
    "    # e.g. return UNet(n_in, **model_args)\n",
    "    pass"
   ]
  },
  {
   "cell_type": "code",
   "execution_count": 149,
   "id": "0d48c008-71de-4297-8419-efe3ed7e26e3",
   "metadata": {},
   "outputs": [],
   "source": [
    "create_model(10, model_args=Model())"
   ]
  },
  {
   "cell_type": "code",
   "execution_count": 146,
   "id": "6929774c-b6bc-4d3f-90fa-25ce2d43855b",
   "metadata": {},
   "outputs": [
    {
     "ename": "SyntaxError",
     "evalue": "invalid syntax (335139012.py, line 1)",
     "output_type": "error",
     "traceback": [
      "\u001b[0;36m  Input \u001b[0;32mIn [146]\u001b[0;36m\u001b[0m\n\u001b[0;31m    **Model()\u001b[0m\n\u001b[0m    ^\u001b[0m\n\u001b[0;31mSyntaxError\u001b[0m\u001b[0;31m:\u001b[0m invalid syntax\n"
     ]
    }
   ],
   "source": [
    "Model()"
   ]
  },
  {
   "cell_type": "code",
   "execution_count": 113,
   "id": "151875f5-c88c-4638-934c-e5a1c8af4cfc",
   "metadata": {},
   "outputs": [],
   "source": [
    "# https://stackoverflow.com/questions/14301967/bare-asterisk-in-function-parameters"
   ]
  },
  {
   "cell_type": "code",
   "execution_count": null,
   "id": "16c0da67-27b7-4941-8e4a-909509632600",
   "metadata": {},
   "outputs": [],
   "source": []
  }
 ],
 "metadata": {
  "kernelspec": {
   "display_name": "Python 3 (ipykernel)",
   "language": "python",
   "name": "python3"
  },
  "language_info": {
   "codemirror_mode": {
    "name": "ipython",
    "version": 3
   },
   "file_extension": ".py",
   "mimetype": "text/x-python",
   "name": "python",
   "nbconvert_exporter": "python",
   "pygments_lexer": "ipython3",
   "version": "3.8.13"
  }
 },
 "nbformat": 4,
 "nbformat_minor": 5
}
